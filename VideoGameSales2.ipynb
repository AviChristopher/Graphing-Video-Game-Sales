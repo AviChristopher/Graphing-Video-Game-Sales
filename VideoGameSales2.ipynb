{
 "cells": [
  {
   "cell_type": "code",
   "execution_count": 367,
   "id": "590167ae-9e58-43ba-8b4c-d886273a3834",
   "metadata": {},
   "outputs": [
    {
     "data": {
      "text/html": [
       "<div>\n",
       "<style scoped>\n",
       "    .dataframe tbody tr th:only-of-type {\n",
       "        vertical-align: middle;\n",
       "    }\n",
       "\n",
       "    .dataframe tbody tr th {\n",
       "        vertical-align: top;\n",
       "    }\n",
       "\n",
       "    .dataframe thead th {\n",
       "        text-align: right;\n",
       "    }\n",
       "</style>\n",
       "<table border=\"1\" class=\"dataframe\">\n",
       "  <thead>\n",
       "    <tr style=\"text-align: right;\">\n",
       "      <th></th>\n",
       "      <th>Rank</th>\n",
       "      <th>Name</th>\n",
       "      <th>Platform</th>\n",
       "      <th>Year</th>\n",
       "      <th>Genre</th>\n",
       "      <th>Publisher</th>\n",
       "      <th>NA_Sales</th>\n",
       "      <th>EU_Sales</th>\n",
       "      <th>JP_Sales</th>\n",
       "      <th>Other_Sales</th>\n",
       "      <th>Global_Sales</th>\n",
       "    </tr>\n",
       "  </thead>\n",
       "  <tbody>\n",
       "    <tr>\n",
       "      <th>0</th>\n",
       "      <td>1</td>\n",
       "      <td>Wii Sports</td>\n",
       "      <td>Nintendo</td>\n",
       "      <td>2006</td>\n",
       "      <td>Sports</td>\n",
       "      <td>Nintendo</td>\n",
       "      <td>41.49</td>\n",
       "      <td>29.02</td>\n",
       "      <td>3.77</td>\n",
       "      <td>8.46</td>\n",
       "      <td>82.74</td>\n",
       "    </tr>\n",
       "    <tr>\n",
       "      <th>1</th>\n",
       "      <td>2</td>\n",
       "      <td>Mario Kart Wii</td>\n",
       "      <td>Nintendo</td>\n",
       "      <td>2008</td>\n",
       "      <td>Racing</td>\n",
       "      <td>Nintendo</td>\n",
       "      <td>15.85</td>\n",
       "      <td>12.88</td>\n",
       "      <td>3.79</td>\n",
       "      <td>3.31</td>\n",
       "      <td>35.82</td>\n",
       "    </tr>\n",
       "    <tr>\n",
       "      <th>2</th>\n",
       "      <td>3</td>\n",
       "      <td>Wii Sports Resort</td>\n",
       "      <td>Nintendo</td>\n",
       "      <td>2009</td>\n",
       "      <td>Sports</td>\n",
       "      <td>Nintendo</td>\n",
       "      <td>15.75</td>\n",
       "      <td>11.01</td>\n",
       "      <td>3.28</td>\n",
       "      <td>2.96</td>\n",
       "      <td>33.00</td>\n",
       "    </tr>\n",
       "    <tr>\n",
       "      <th>3</th>\n",
       "      <td>4</td>\n",
       "      <td>New Super Mario Bros.</td>\n",
       "      <td>Nintendo</td>\n",
       "      <td>2006</td>\n",
       "      <td>Platform</td>\n",
       "      <td>Nintendo</td>\n",
       "      <td>11.38</td>\n",
       "      <td>9.23</td>\n",
       "      <td>6.50</td>\n",
       "      <td>2.90</td>\n",
       "      <td>30.01</td>\n",
       "    </tr>\n",
       "    <tr>\n",
       "      <th>4</th>\n",
       "      <td>5</td>\n",
       "      <td>Wii Play</td>\n",
       "      <td>Nintendo</td>\n",
       "      <td>2006</td>\n",
       "      <td>Misc</td>\n",
       "      <td>Nintendo</td>\n",
       "      <td>14.03</td>\n",
       "      <td>9.20</td>\n",
       "      <td>2.93</td>\n",
       "      <td>2.85</td>\n",
       "      <td>29.02</td>\n",
       "    </tr>\n",
       "  </tbody>\n",
       "</table>\n",
       "</div>"
      ],
      "text/plain": [
       "   Rank                   Name  Platform  Year     Genre Publisher  NA_Sales  \\\n",
       "0     1             Wii Sports  Nintendo  2006    Sports  Nintendo     41.49   \n",
       "1     2         Mario Kart Wii  Nintendo  2008    Racing  Nintendo     15.85   \n",
       "2     3      Wii Sports Resort  Nintendo  2009    Sports  Nintendo     15.75   \n",
       "3     4  New Super Mario Bros.  Nintendo  2006  Platform  Nintendo     11.38   \n",
       "4     5               Wii Play  Nintendo  2006      Misc  Nintendo     14.03   \n",
       "\n",
       "   EU_Sales  JP_Sales  Other_Sales  Global_Sales  \n",
       "0     29.02      3.77         8.46         82.74  \n",
       "1     12.88      3.79         3.31         35.82  \n",
       "2     11.01      3.28         2.96         33.00  \n",
       "3      9.23      6.50         2.90         30.01  \n",
       "4      9.20      2.93         2.85         29.02  "
      ]
     },
     "execution_count": 367,
     "metadata": {},
     "output_type": "execute_result"
    }
   ],
   "source": [
    "import pandas as pd\n",
    "import seaborn as sns\n",
    "import matplotlib.pyplot as plt\n",
    "\n",
    "sns.set_theme()\n",
    "\n",
    "top100 = pd.read_csv('top100videogamesales.csv')\n",
    "\n",
    "top100.head()"
   ]
  },
  {
   "cell_type": "markdown",
   "id": "ef96ec3a-1ec4-478f-abd8-940b8e40b809",
   "metadata": {},
   "source": [
    "## 1. Chart showing the sales by region for each publisher"
   ]
  },
  {
   "cell_type": "markdown",
   "id": "c78ed8f4-a960-4f60-8083-8044b8e6e923",
   "metadata": {},
   "source": [
    "##### In North America, Microsoft Game Studios has the most sales\n",
    "\n",
    "##### In Japan and the EU, Nintendo has the most sales"
   ]
  },
  {
   "cell_type": "code",
   "execution_count": 20,
   "id": "ceb4f738-ba97-4744-8dc9-13bc1618348d",
   "metadata": {},
   "outputs": [
    {
     "data": {
      "text/plain": [
       "<Axes: xlabel='NA_Sales', ylabel='Publisher'>"
      ]
     },
     "execution_count": 20,
     "metadata": {},
     "output_type": "execute_result"
    },
    {
     "data": {
      "image/png": "[encoded data removed]",
      "text/plain": [
       "<Figure size 640x480 with 1 Axes>"
      ]
     },
     "metadata": {},
     "output_type": "display_data"
    }
   ],
   "source": [
    "sns.barplot(data=top100, x='NA_Sales',y='Publisher')\n"
   ]
  },
  {
   "cell_type": "code",
   "execution_count": 21,
   "id": "481fe3d9-ad3c-4c43-95b7-1ce03fff678e",
   "metadata": {},
   "outputs": [
    {
     "data": {
      "text/plain": [
       "<Axes: xlabel='JP_Sales', ylabel='Publisher'>"
      ]
     },
     "execution_count": 21,
     "metadata": {},
     "output_type": "execute_result"
    },
    {
     "data": {
      "image/png": "[encoded data removed]",
      "text/plain": [
       "<Figure size 640x480 with 1 Axes>"
      ]
     },
     "metadata": {},
     "output_type": "display_data"
    }
   ],
   "source": [
    "sns.barplot(data=top100, x='JP_Sales',y='Publisher')"
   ]
  },
  {
   "cell_type": "code",
   "execution_count": 22,
   "id": "21b96389-adba-4c31-98cd-83de3d56f9c5",
   "metadata": {},
   "outputs": [
    {
     "data": {
      "text/plain": [
       "<Axes: xlabel='EU_Sales', ylabel='Publisher'>"
      ]
     },
     "execution_count": 22,
     "metadata": {},
     "output_type": "execute_result"
    },
    {
     "data": {
      "image/png": "[encoded data removed]",
      "text/plain": [
       "<Figure size 640x480 with 1 Axes>"
      ]
     },
     "metadata": {},
     "output_type": "display_data"
    }
   ],
   "source": [
    "sns.barplot(data=top100, x='EU_Sales',y='Publisher')"
   ]
  },
  {
   "cell_type": "markdown",
   "id": "917fecd3-c41d-4581-817a-3656173b8e4e",
   "metadata": {},
   "source": [
    "## 2. A line chart showing the total global sales each year"
   ]
  },
  {
   "cell_type": "code",
   "execution_count": 117,
   "id": "ea4b47f0-0271-4fec-a8e9-af349843229e",
   "metadata": {},
   "outputs": [
    {
     "data": {
      "text/html": [
       "<div>\n",
       "<style scoped>\n",
       "    .dataframe tbody tr th:only-of-type {\n",
       "        vertical-align: middle;\n",
       "    }\n",
       "\n",
       "    .dataframe tbody tr th {\n",
       "        vertical-align: top;\n",
       "    }\n",
       "\n",
       "    .dataframe thead th {\n",
       "        text-align: right;\n",
       "    }\n",
       "</style>\n",
       "<table border=\"1\" class=\"dataframe\">\n",
       "  <thead>\n",
       "    <tr style=\"text-align: right;\">\n",
       "      <th></th>\n",
       "      <th>Year</th>\n",
       "      <th>Global_Sales</th>\n",
       "    </tr>\n",
       "  </thead>\n",
       "  <tbody>\n",
       "    <tr>\n",
       "      <th>0</th>\n",
       "      <td>2006</td>\n",
       "      <td>82.74</td>\n",
       "    </tr>\n",
       "    <tr>\n",
       "      <th>1</th>\n",
       "      <td>2008</td>\n",
       "      <td>35.82</td>\n",
       "    </tr>\n",
       "    <tr>\n",
       "      <th>2</th>\n",
       "      <td>2009</td>\n",
       "      <td>33.00</td>\n",
       "    </tr>\n",
       "    <tr>\n",
       "      <th>3</th>\n",
       "      <td>2006</td>\n",
       "      <td>30.01</td>\n",
       "    </tr>\n",
       "    <tr>\n",
       "      <th>4</th>\n",
       "      <td>2006</td>\n",
       "      <td>29.02</td>\n",
       "    </tr>\n",
       "  </tbody>\n",
       "</table>\n",
       "</div>"
      ],
      "text/plain": [
       "   Year  Global_Sales\n",
       "0  2006         82.74\n",
       "1  2008         35.82\n",
       "2  2009         33.00\n",
       "3  2006         30.01\n",
       "4  2006         29.02"
      ]
     },
     "execution_count": 117,
     "metadata": {},
     "output_type": "execute_result"
    }
   ],
   "source": [
    "top100.head(5)\n",
    "globalsales= top100.loc[:,['Year','Global_Sales']]\n",
    "globalsales.head()"
   ]
  },
  {
   "cell_type": "code",
   "execution_count": 126,
   "id": "80df937b-3046-4728-8f68-d636abfa6e0b",
   "metadata": {},
   "outputs": [
    {
     "data": {
      "text/html": [
       "<div>\n",
       "<style scoped>\n",
       "    .dataframe tbody tr th:only-of-type {\n",
       "        vertical-align: middle;\n",
       "    }\n",
       "\n",
       "    .dataframe tbody tr th {\n",
       "        vertical-align: top;\n",
       "    }\n",
       "\n",
       "    .dataframe thead th {\n",
       "        text-align: right;\n",
       "    }\n",
       "</style>\n",
       "<table border=\"1\" class=\"dataframe\">\n",
       "  <thead>\n",
       "    <tr style=\"text-align: right;\">\n",
       "      <th></th>\n",
       "      <th>Global_Sales</th>\n",
       "    </tr>\n",
       "    <tr>\n",
       "      <th>Year</th>\n",
       "      <th></th>\n",
       "    </tr>\n",
       "  </thead>\n",
       "  <tbody>\n",
       "    <tr>\n",
       "      <th>2001</th>\n",
       "      <td>43.20</td>\n",
       "    </tr>\n",
       "    <tr>\n",
       "      <th>2002</th>\n",
       "      <td>38.83</td>\n",
       "    </tr>\n",
       "    <tr>\n",
       "      <th>2003</th>\n",
       "      <td>14.15</td>\n",
       "    </tr>\n",
       "    <tr>\n",
       "      <th>2004</th>\n",
       "      <td>68.77</td>\n",
       "    </tr>\n",
       "    <tr>\n",
       "      <th>2005</th>\n",
       "      <td>110.36</td>\n",
       "    </tr>\n",
       "  </tbody>\n",
       "</table>\n",
       "</div>"
      ],
      "text/plain": [
       "      Global_Sales\n",
       "Year              \n",
       "2001         43.20\n",
       "2002         38.83\n",
       "2003         14.15\n",
       "2004         68.77\n",
       "2005        110.36"
      ]
     },
     "execution_count": 126,
     "metadata": {},
     "output_type": "execute_result"
    }
   ],
   "source": [
    "group_by_year =globalsales.groupby('Year')\n",
    "totalglobalsales=group_by_year.sum()\n",
    "totalglobalsales.head(5)"
   ]
  },
  {
   "cell_type": "markdown",
   "id": "ea601b93-ff58-40c8-8acf-caee32dbd83c",
   "metadata": {},
   "source": [
    "### Explanation\n",
    "\n",
    "#### The line graph below illustrates the Global Sales performance observed between the years 2001 and 2015.Overall, the sales data reveals a pattern of fluctuations with sales reaching its lowest point in 2003 and its highest point in 2006 at 170 million dollars.However, this record high was swiftly followed by a sharp decline in 2007 ,plummeting to 90 million dollars which is approximately 50% lower than the previous year.There is a notable resurgence in sales between 2008 and 2009, rebounding to 140 million dollars.Unfortunately,sales began to steadily decline after 2009.  \n",
    "\n",
    "\n"
   ]
  },
  {
   "cell_type": "code",
   "execution_count": 121,
   "id": "2e2d0c7f-1862-4bf6-98f0-cf5f59b3cfe0",
   "metadata": {},
   "outputs": [
    {
     "data": {
      "text/plain": [
       "<Axes: xlabel='Year', ylabel='Global_Sales'>"
      ]
     },
     "execution_count": 121,
     "metadata": {},
     "output_type": "execute_result"
    },
    {
     "data": {
      "image/png": "[encoded data removed]",
      "text/plain": [
       "<Figure size 640x480 with 1 Axes>"
      ]
     },
     "metadata": {},
     "output_type": "display_data"
    }
   ],
   "source": [
    "sns.lineplot(data=totalglobalsales,x='Year',y='Global_Sales')\n"
   ]
  },
  {
   "cell_type": "markdown",
   "id": "ecd58530-1c9a-4606-a70c-412292c7f414",
   "metadata": {},
   "source": [
    "## 3.  A Histogram showing the global sales distribution for games with Action as the genre.\n",
    "\n",
    "##### The histogram below illustrates that Global Sales were distributed between 7 and 12 dollars.\n",
    "##### There are 6 observations between 7 - 9 dollars and 4 observations between 9 and 12 dollars."
   ]
  },
  {
   "cell_type": "code",
   "execution_count": 113,
   "id": "a79fdb5a-e9a6-418e-a117-66b3625b49fa",
   "metadata": {},
   "outputs": [
    {
     "data": {
      "text/html": [
       "<div>\n",
       "<style scoped>\n",
       "    .dataframe tbody tr th:only-of-type {\n",
       "        vertical-align: middle;\n",
       "    }\n",
       "\n",
       "    .dataframe tbody tr th {\n",
       "        vertical-align: top;\n",
       "    }\n",
       "\n",
       "    .dataframe thead th {\n",
       "        text-align: right;\n",
       "    }\n",
       "</style>\n",
       "<table border=\"1\" class=\"dataframe\">\n",
       "  <thead>\n",
       "    <tr style=\"text-align: right;\">\n",
       "      <th></th>\n",
       "      <th>Rank</th>\n",
       "      <th>Name</th>\n",
       "      <th>Platform</th>\n",
       "      <th>Year</th>\n",
       "      <th>Genre</th>\n",
       "      <th>Publisher</th>\n",
       "      <th>NA_Sales</th>\n",
       "      <th>EU_Sales</th>\n",
       "      <th>JP_Sales</th>\n",
       "      <th>Other_Sales</th>\n",
       "      <th>Global_Sales</th>\n",
       "    </tr>\n",
       "  </thead>\n",
       "  <tbody>\n",
       "    <tr>\n",
       "      <th>11</th>\n",
       "      <td>12</td>\n",
       "      <td>Grand Theft Auto V</td>\n",
       "      <td>PlayStation</td>\n",
       "      <td>2013</td>\n",
       "      <td>Action</td>\n",
       "      <td>Take-Two Interactive</td>\n",
       "      <td>7.01</td>\n",
       "      <td>9.27</td>\n",
       "      <td>0.97</td>\n",
       "      <td>4.14</td>\n",
       "      <td>21.40</td>\n",
       "    </tr>\n",
       "    <tr>\n",
       "      <th>12</th>\n",
       "      <td>13</td>\n",
       "      <td>Grand Theft Auto: San Andreas</td>\n",
       "      <td>PlayStation</td>\n",
       "      <td>2004</td>\n",
       "      <td>Action</td>\n",
       "      <td>Take-Two Interactive</td>\n",
       "      <td>9.43</td>\n",
       "      <td>0.40</td>\n",
       "      <td>0.41</td>\n",
       "      <td>10.57</td>\n",
       "      <td>20.81</td>\n",
       "    </tr>\n",
       "  </tbody>\n",
       "</table>\n",
       "</div>"
      ],
      "text/plain": [
       "    Rank                           Name     Platform  Year   Genre  \\\n",
       "11    12             Grand Theft Auto V  PlayStation  2013  Action   \n",
       "12    13  Grand Theft Auto: San Andreas  PlayStation  2004  Action   \n",
       "\n",
       "               Publisher  NA_Sales  EU_Sales  JP_Sales  Other_Sales  \\\n",
       "11  Take-Two Interactive      7.01      9.27      0.97         4.14   \n",
       "12  Take-Two Interactive      9.43      0.40      0.41        10.57   \n",
       "\n",
       "    Global_Sales  \n",
       "11         21.40  \n",
       "12         20.81  "
      ]
     },
     "execution_count": 113,
     "metadata": {},
     "output_type": "execute_result"
    }
   ],
   "source": [
    "actionGenre=top100.loc[top100['Genre']== 'Action' ]\n",
    "actionGenre.head(2)"
   ]
  },
  {
   "cell_type": "code",
   "execution_count": 110,
   "id": "e9ad5f13-5576-41ac-9376-07671bd4fe97",
   "metadata": {},
   "outputs": [
    {
     "data": {
      "text/plain": [
       "<Axes: xlabel='Global_Sales', ylabel='Count'>"
      ]
     },
     "execution_count": 110,
     "metadata": {},
     "output_type": "execute_result"
    },
    {
     "data": {
      "image/png": "[encoded data removed]",
      "text/plain": [
       "<Figure size 640x480 with 1 Axes>"
      ]
     },
     "metadata": {},
     "output_type": "display_data"
    }
   ],
   "source": [
    "sns.histplot(data=actionGenre,x='Global_Sales',bins=5)"
   ]
  },
  {
   "cell_type": "markdown",
   "id": "13d3fa7a-5dc6-46c3-ba25-a0442ae26b6a",
   "metadata": {},
   "source": [
    "## 4. The percentage of North American Sales by Genre\n",
    "\n",
    "\n"
   ]
  },
  {
   "cell_type": "code",
   "execution_count": 91,
   "id": "e26f7b55-af33-4547-acab-f7c8fa35af56",
   "metadata": {},
   "outputs": [
    {
     "data": {
      "text/html": [
       "<div>\n",
       "<style scoped>\n",
       "    .dataframe tbody tr th:only-of-type {\n",
       "        vertical-align: middle;\n",
       "    }\n",
       "\n",
       "    .dataframe tbody tr th {\n",
       "        vertical-align: top;\n",
       "    }\n",
       "\n",
       "    .dataframe thead th {\n",
       "        text-align: right;\n",
       "    }\n",
       "</style>\n",
       "<table border=\"1\" class=\"dataframe\">\n",
       "  <thead>\n",
       "    <tr style=\"text-align: right;\">\n",
       "      <th></th>\n",
       "      <th>Genre</th>\n",
       "      <th>NA_Sales</th>\n",
       "    </tr>\n",
       "  </thead>\n",
       "  <tbody>\n",
       "    <tr>\n",
       "      <th>0</th>\n",
       "      <td>Sports</td>\n",
       "      <td>41.49</td>\n",
       "    </tr>\n",
       "    <tr>\n",
       "      <th>1</th>\n",
       "      <td>Racing</td>\n",
       "      <td>15.85</td>\n",
       "    </tr>\n",
       "    <tr>\n",
       "      <th>2</th>\n",
       "      <td>Sports</td>\n",
       "      <td>15.75</td>\n",
       "    </tr>\n",
       "    <tr>\n",
       "      <th>3</th>\n",
       "      <td>Platform</td>\n",
       "      <td>11.38</td>\n",
       "    </tr>\n",
       "    <tr>\n",
       "      <th>4</th>\n",
       "      <td>Misc</td>\n",
       "      <td>14.03</td>\n",
       "    </tr>\n",
       "  </tbody>\n",
       "</table>\n",
       "</div>"
      ],
      "text/plain": [
       "      Genre  NA_Sales\n",
       "0    Sports     41.49\n",
       "1    Racing     15.85\n",
       "2    Sports     15.75\n",
       "3  Platform     11.38\n",
       "4      Misc     14.03"
      ]
     },
     "execution_count": 91,
     "metadata": {},
     "output_type": "execute_result"
    }
   ],
   "source": [
    "\n",
    "NorthAmerica= top100.loc[:,['Genre','NA_Sales']]\n",
    "\n",
    "NorthAmerica.head()"
   ]
  },
  {
   "cell_type": "markdown",
   "id": "1dedd67d-e33b-4bcb-bf24-e3f640dbc2ff",
   "metadata": {},
   "source": [
    "### Task 1\n",
    "#### Grouping the genres and using the sum() function\n",
    "#### Creating a new column to show the percentage"
   ]
  },
  {
   "cell_type": "code",
   "execution_count": 198,
   "id": "3646e471-1d5b-4620-9934-9f03f9e24918",
   "metadata": {},
   "outputs": [
    {
     "data": {
      "text/html": [
       "<div>\n",
       "<style scoped>\n",
       "    .dataframe tbody tr th:only-of-type {\n",
       "        vertical-align: middle;\n",
       "    }\n",
       "\n",
       "    .dataframe tbody tr th {\n",
       "        vertical-align: top;\n",
       "    }\n",
       "\n",
       "    .dataframe thead th {\n",
       "        text-align: right;\n",
       "    }\n",
       "</style>\n",
       "<table border=\"1\" class=\"dataframe\">\n",
       "  <thead>\n",
       "    <tr style=\"text-align: right;\">\n",
       "      <th></th>\n",
       "      <th>NA_Sales</th>\n",
       "      <th>% of Total</th>\n",
       "    </tr>\n",
       "    <tr>\n",
       "      <th>Genre</th>\n",
       "      <th></th>\n",
       "      <th></th>\n",
       "    </tr>\n",
       "  </thead>\n",
       "  <tbody>\n",
       "    <tr>\n",
       "      <th>Action</th>\n",
       "      <td>77.81</td>\n",
       "      <td>13.752938</td>\n",
       "    </tr>\n",
       "    <tr>\n",
       "      <th>Fighting</th>\n",
       "      <td>14.40</td>\n",
       "      <td>2.545204</td>\n",
       "    </tr>\n",
       "    <tr>\n",
       "      <th>Misc</th>\n",
       "      <td>70.60</td>\n",
       "      <td>12.478569</td>\n",
       "    </tr>\n",
       "    <tr>\n",
       "      <th>Platform</th>\n",
       "      <td>52.67</td>\n",
       "      <td>9.309437</td>\n",
       "    </tr>\n",
       "    <tr>\n",
       "      <th>Puzzle</th>\n",
       "      <td>3.44</td>\n",
       "      <td>0.608021</td>\n",
       "    </tr>\n",
       "    <tr>\n",
       "      <th>Racing</th>\n",
       "      <td>56.45</td>\n",
       "      <td>9.977553</td>\n",
       "    </tr>\n",
       "    <tr>\n",
       "      <th>Role-Playing</th>\n",
       "      <td>50.48</td>\n",
       "      <td>8.922354</td>\n",
       "    </tr>\n",
       "    <tr>\n",
       "      <th>Shooter</th>\n",
       "      <td>140.44</td>\n",
       "      <td>24.822808</td>\n",
       "    </tr>\n",
       "    <tr>\n",
       "      <th>Simulation</th>\n",
       "      <td>14.61</td>\n",
       "      <td>2.582321</td>\n",
       "    </tr>\n",
       "    <tr>\n",
       "      <th>Sports</th>\n",
       "      <td>84.87</td>\n",
       "      <td>15.000795</td>\n",
       "    </tr>\n",
       "  </tbody>\n",
       "</table>\n",
       "</div>"
      ],
      "text/plain": [
       "              NA_Sales  % of Total\n",
       "Genre                             \n",
       "Action           77.81   13.752938\n",
       "Fighting         14.40    2.545204\n",
       "Misc             70.60   12.478569\n",
       "Platform         52.67    9.309437\n",
       "Puzzle            3.44    0.608021\n",
       "Racing           56.45    9.977553\n",
       "Role-Playing     50.48    8.922354\n",
       "Shooter         140.44   24.822808\n",
       "Simulation       14.61    2.582321\n",
       "Sports           84.87   15.000795"
      ]
     },
     "execution_count": 198,
     "metadata": {},
     "output_type": "execute_result"
    }
   ],
   "source": [
    "group_by_genre=NorthAmerica.groupby('Genre')\n",
    "Total=group_by_genre.sum()\n",
    "Total.head(10)\n",
    "\n",
    "Total['% of Total']=Total['NA_Sales'].apply(lambda x: 100* x /Total['NA_Sales'].sum())\n",
    "Total.head(10)\n"
   ]
  },
  {
   "cell_type": "markdown",
   "id": "ac366514-226b-4b17-9bf1-cf55319a0c3e",
   "metadata": {},
   "source": [
    "### Task 2\n",
    "\n",
    "#### Sorting Values to slice dataframe"
   ]
  },
  {
   "cell_type": "code",
   "execution_count": 236,
   "id": "4688fea0-8dbb-4bfc-a989-8eb3d386fd2a",
   "metadata": {},
   "outputs": [
    {
     "data": {
      "text/html": [
       "<div>\n",
       "<style scoped>\n",
       "    .dataframe tbody tr th:only-of-type {\n",
       "        vertical-align: middle;\n",
       "    }\n",
       "\n",
       "    .dataframe tbody tr th {\n",
       "        vertical-align: top;\n",
       "    }\n",
       "\n",
       "    .dataframe thead th {\n",
       "        text-align: right;\n",
       "    }\n",
       "</style>\n",
       "<table border=\"1\" class=\"dataframe\">\n",
       "  <thead>\n",
       "    <tr style=\"text-align: right;\">\n",
       "      <th></th>\n",
       "      <th>NA_Sales</th>\n",
       "      <th>% of Total</th>\n",
       "    </tr>\n",
       "    <tr>\n",
       "      <th>Genre</th>\n",
       "      <th></th>\n",
       "      <th></th>\n",
       "    </tr>\n",
       "  </thead>\n",
       "  <tbody>\n",
       "    <tr>\n",
       "      <th>Shooter</th>\n",
       "      <td>140.44</td>\n",
       "      <td>24.822808</td>\n",
       "    </tr>\n",
       "    <tr>\n",
       "      <th>Sports</th>\n",
       "      <td>84.87</td>\n",
       "      <td>15.000795</td>\n",
       "    </tr>\n",
       "    <tr>\n",
       "      <th>Action</th>\n",
       "      <td>77.81</td>\n",
       "      <td>13.752938</td>\n",
       "    </tr>\n",
       "    <tr>\n",
       "      <th>Misc</th>\n",
       "      <td>70.60</td>\n",
       "      <td>12.478569</td>\n",
       "    </tr>\n",
       "    <tr>\n",
       "      <th>Racing</th>\n",
       "      <td>56.45</td>\n",
       "      <td>9.977553</td>\n",
       "    </tr>\n",
       "    <tr>\n",
       "      <th>Platform</th>\n",
       "      <td>52.67</td>\n",
       "      <td>9.309437</td>\n",
       "    </tr>\n",
       "    <tr>\n",
       "      <th>Role-Playing</th>\n",
       "      <td>50.48</td>\n",
       "      <td>8.922354</td>\n",
       "    </tr>\n",
       "    <tr>\n",
       "      <th>Simulation</th>\n",
       "      <td>14.61</td>\n",
       "      <td>2.582321</td>\n",
       "    </tr>\n",
       "    <tr>\n",
       "      <th>Fighting</th>\n",
       "      <td>14.40</td>\n",
       "      <td>2.545204</td>\n",
       "    </tr>\n",
       "    <tr>\n",
       "      <th>Puzzle</th>\n",
       "      <td>3.44</td>\n",
       "      <td>0.608021</td>\n",
       "    </tr>\n",
       "  </tbody>\n",
       "</table>\n",
       "</div>"
      ],
      "text/plain": [
       "              NA_Sales  % of Total\n",
       "Genre                             \n",
       "Shooter         140.44   24.822808\n",
       "Sports           84.87   15.000795\n",
       "Action           77.81   13.752938\n",
       "Misc             70.60   12.478569\n",
       "Racing           56.45    9.977553\n",
       "Platform         52.67    9.309437\n",
       "Role-Playing     50.48    8.922354\n",
       "Simulation       14.61    2.582321\n",
       "Fighting         14.40    2.545204\n",
       "Puzzle            3.44    0.608021"
      ]
     },
     "execution_count": 236,
     "metadata": {},
     "output_type": "execute_result"
    }
   ],
   "source": [
    "Total=Total.sort_values(by=['NA_Sales'], ascending=False)\n",
    "Total.head(15)"
   ]
  },
  {
   "cell_type": "markdown",
   "id": "b2150256-f93d-43f8-9a00-943fa6d30447",
   "metadata": {},
   "source": [
    "#### Slicing the Dataframe"
   ]
  },
  {
   "cell_type": "code",
   "execution_count": 342,
   "id": "544a9c75-4127-42bc-b073-393df1865d8d",
   "metadata": {},
   "outputs": [
    {
     "data": {
      "text/html": [
       "<div>\n",
       "<style scoped>\n",
       "    .dataframe tbody tr th:only-of-type {\n",
       "        vertical-align: middle;\n",
       "    }\n",
       "\n",
       "    .dataframe tbody tr th {\n",
       "        vertical-align: top;\n",
       "    }\n",
       "\n",
       "    .dataframe thead th {\n",
       "        text-align: right;\n",
       "    }\n",
       "</style>\n",
       "<table border=\"1\" class=\"dataframe\">\n",
       "  <thead>\n",
       "    <tr style=\"text-align: right;\">\n",
       "      <th></th>\n",
       "      <th>NA_Sales</th>\n",
       "      <th>% of Total</th>\n",
       "    </tr>\n",
       "    <tr>\n",
       "      <th>Genre</th>\n",
       "      <th></th>\n",
       "      <th></th>\n",
       "    </tr>\n",
       "  </thead>\n",
       "  <tbody>\n",
       "    <tr>\n",
       "      <th>Shooter</th>\n",
       "      <td>140.44</td>\n",
       "      <td>24.822808</td>\n",
       "    </tr>\n",
       "    <tr>\n",
       "      <th>Sports</th>\n",
       "      <td>84.87</td>\n",
       "      <td>15.000795</td>\n",
       "    </tr>\n",
       "    <tr>\n",
       "      <th>Action</th>\n",
       "      <td>77.81</td>\n",
       "      <td>13.752938</td>\n",
       "    </tr>\n",
       "    <tr>\n",
       "      <th>Misc</th>\n",
       "      <td>70.60</td>\n",
       "      <td>12.478569</td>\n",
       "    </tr>\n",
       "    <tr>\n",
       "      <th>Racing</th>\n",
       "      <td>56.45</td>\n",
       "      <td>9.977553</td>\n",
       "    </tr>\n",
       "  </tbody>\n",
       "</table>\n",
       "</div>"
      ],
      "text/plain": [
       "         NA_Sales  % of Total\n",
       "Genre                        \n",
       "Shooter    140.44   24.822808\n",
       "Sports      84.87   15.000795\n",
       "Action      77.81   13.752938\n",
       "Misc        70.60   12.478569\n",
       "Racing      56.45    9.977553"
      ]
     },
     "execution_count": 342,
     "metadata": {},
     "output_type": "execute_result"
    }
   ],
   "source": [
    "Total1 = Total.iloc[:7]\n",
    "Total2 = Total.iloc[7:]\n",
    "\n",
    "Total1.head()"
   ]
  },
  {
   "cell_type": "code",
   "execution_count": 343,
   "id": "fe30ff6e-c7da-448e-af40-28dec1f336a3",
   "metadata": {},
   "outputs": [
    {
     "data": {
      "text/html": [
       "<div>\n",
       "<style scoped>\n",
       "    .dataframe tbody tr th:only-of-type {\n",
       "        vertical-align: middle;\n",
       "    }\n",
       "\n",
       "    .dataframe tbody tr th {\n",
       "        vertical-align: top;\n",
       "    }\n",
       "\n",
       "    .dataframe thead th {\n",
       "        text-align: right;\n",
       "    }\n",
       "</style>\n",
       "<table border=\"1\" class=\"dataframe\">\n",
       "  <thead>\n",
       "    <tr style=\"text-align: right;\">\n",
       "      <th></th>\n",
       "      <th>NA_Sales</th>\n",
       "      <th>% of Total</th>\n",
       "    </tr>\n",
       "    <tr>\n",
       "      <th>Genre</th>\n",
       "      <th></th>\n",
       "      <th></th>\n",
       "    </tr>\n",
       "  </thead>\n",
       "  <tbody>\n",
       "    <tr>\n",
       "      <th>Simulation</th>\n",
       "      <td>14.61</td>\n",
       "      <td>2.582321</td>\n",
       "    </tr>\n",
       "    <tr>\n",
       "      <th>Fighting</th>\n",
       "      <td>14.40</td>\n",
       "      <td>2.545204</td>\n",
       "    </tr>\n",
       "    <tr>\n",
       "      <th>Puzzle</th>\n",
       "      <td>3.44</td>\n",
       "      <td>0.608021</td>\n",
       "    </tr>\n",
       "  </tbody>\n",
       "</table>\n",
       "</div>"
      ],
      "text/plain": [
       "            NA_Sales  % of Total\n",
       "Genre                           \n",
       "Simulation     14.61    2.582321\n",
       "Fighting       14.40    2.545204\n",
       "Puzzle          3.44    0.608021"
      ]
     },
     "execution_count": 343,
     "metadata": {},
     "output_type": "execute_result"
    }
   ],
   "source": [
    "\n",
    "Total2.head()\n",
    "\n",
    "\n"
   ]
  },
  {
   "cell_type": "markdown",
   "id": "9e417d21-ead5-4d95-b145-f2f5669ba974",
   "metadata": {},
   "source": [
    "### Task 3\n",
    "#### Summing the low percentage dataframe and adding a new row named 'Other' to the dataframe"
   ]
  },
  {
   "cell_type": "code",
   "execution_count": 346,
   "id": "aec7bf12-560d-470d-b177-70561febb340",
   "metadata": {},
   "outputs": [
    {
     "name": "stderr",
     "output_type": "stream",
     "text": [
      "/var/folders/86/09bx2_dx25b9p4352_slh92m0000gn/T/ipykernel_5807/1025028238.py:1: FutureWarning: The frame.append method is deprecated and will be removed from pandas in a future version. Use pandas.concat instead.\n",
      "  Total2=Total2.append(Total2.sum().rename('Other:Simulation,Fighting,Puzzle'))\n"
     ]
    }
   ],
   "source": [
    "\n",
    "Total2=Total2.append(Total2.sum().rename('Other:Simulation,Fighting,Puzzle'))\n"
   ]
  },
  {
   "cell_type": "markdown",
   "id": "ece85d05-bc46-4f25-bbc0-0ad19136f051",
   "metadata": {},
   "source": [
    "#### Slicing then appending to the Total dataframe creating a new dataframe"
   ]
  },
  {
   "cell_type": "code",
   "execution_count": 347,
   "id": "5e72d1b8-19a4-4c34-bf32-c32ad764534d",
   "metadata": {},
   "outputs": [
    {
     "data": {
      "text/html": [
       "<div>\n",
       "<style scoped>\n",
       "    .dataframe tbody tr th:only-of-type {\n",
       "        vertical-align: middle;\n",
       "    }\n",
       "\n",
       "    .dataframe tbody tr th {\n",
       "        vertical-align: top;\n",
       "    }\n",
       "\n",
       "    .dataframe thead th {\n",
       "        text-align: right;\n",
       "    }\n",
       "</style>\n",
       "<table border=\"1\" class=\"dataframe\">\n",
       "  <thead>\n",
       "    <tr style=\"text-align: right;\">\n",
       "      <th></th>\n",
       "      <th>NA_Sales</th>\n",
       "      <th>% of Total</th>\n",
       "    </tr>\n",
       "    <tr>\n",
       "      <th>Genre</th>\n",
       "      <th></th>\n",
       "      <th></th>\n",
       "    </tr>\n",
       "  </thead>\n",
       "  <tbody>\n",
       "    <tr>\n",
       "      <th>Other:Simulation,Fighting,Puzzle</th>\n",
       "      <td>32.45</td>\n",
       "      <td>5.735546</td>\n",
       "    </tr>\n",
       "  </tbody>\n",
       "</table>\n",
       "</div>"
      ],
      "text/plain": [
       "                                  NA_Sales  % of Total\n",
       "Genre                                                 \n",
       "Other:Simulation,Fighting,Puzzle     32.45    5.735546"
      ]
     },
     "execution_count": 347,
     "metadata": {},
     "output_type": "execute_result"
    }
   ],
   "source": [
    "slice_total2=Total2.iloc[3:]\n",
    "\n",
    "slice_total2.head()"
   ]
  },
  {
   "cell_type": "markdown",
   "id": "2a0f5c3e-93e4-44e0-91aa-9a3e11921476",
   "metadata": {},
   "source": [
    "### Task 4\n",
    "\n",
    "#### Combining two dataframes to form a brand new dataframe to create a pie chart"
   ]
  },
  {
   "cell_type": "code",
   "execution_count": 348,
   "id": "2f772e24-5a33-41c5-8867-5b598098862e",
   "metadata": {},
   "outputs": [
    {
     "name": "stderr",
     "output_type": "stream",
     "text": [
      "/var/folders/86/09bx2_dx25b9p4352_slh92m0000gn/T/ipykernel_5807/2482689665.py:1: FutureWarning: The frame.append method is deprecated and will be removed from pandas in a future version. Use pandas.concat instead.\n",
      "  newTotal=Total1.append(slice_total2)\n"
     ]
    },
    {
     "data": {
      "text/html": [
       "<div>\n",
       "<style scoped>\n",
       "    .dataframe tbody tr th:only-of-type {\n",
       "        vertical-align: middle;\n",
       "    }\n",
       "\n",
       "    .dataframe tbody tr th {\n",
       "        vertical-align: top;\n",
       "    }\n",
       "\n",
       "    .dataframe thead th {\n",
       "        text-align: right;\n",
       "    }\n",
       "</style>\n",
       "<table border=\"1\" class=\"dataframe\">\n",
       "  <thead>\n",
       "    <tr style=\"text-align: right;\">\n",
       "      <th></th>\n",
       "      <th>NA_Sales</th>\n",
       "      <th>% of Total</th>\n",
       "    </tr>\n",
       "    <tr>\n",
       "      <th>Genre</th>\n",
       "      <th></th>\n",
       "      <th></th>\n",
       "    </tr>\n",
       "  </thead>\n",
       "  <tbody>\n",
       "    <tr>\n",
       "      <th>Shooter</th>\n",
       "      <td>140.44</td>\n",
       "      <td>24.822808</td>\n",
       "    </tr>\n",
       "    <tr>\n",
       "      <th>Sports</th>\n",
       "      <td>84.87</td>\n",
       "      <td>15.000795</td>\n",
       "    </tr>\n",
       "    <tr>\n",
       "      <th>Action</th>\n",
       "      <td>77.81</td>\n",
       "      <td>13.752938</td>\n",
       "    </tr>\n",
       "    <tr>\n",
       "      <th>Misc</th>\n",
       "      <td>70.60</td>\n",
       "      <td>12.478569</td>\n",
       "    </tr>\n",
       "    <tr>\n",
       "      <th>Racing</th>\n",
       "      <td>56.45</td>\n",
       "      <td>9.977553</td>\n",
       "    </tr>\n",
       "    <tr>\n",
       "      <th>Platform</th>\n",
       "      <td>52.67</td>\n",
       "      <td>9.309437</td>\n",
       "    </tr>\n",
       "    <tr>\n",
       "      <th>Role-Playing</th>\n",
       "      <td>50.48</td>\n",
       "      <td>8.922354</td>\n",
       "    </tr>\n",
       "    <tr>\n",
       "      <th>Other:Simulation,Fighting,Puzzle</th>\n",
       "      <td>32.45</td>\n",
       "      <td>5.735546</td>\n",
       "    </tr>\n",
       "  </tbody>\n",
       "</table>\n",
       "</div>"
      ],
      "text/plain": [
       "                                  NA_Sales  % of Total\n",
       "Genre                                                 \n",
       "Shooter                             140.44   24.822808\n",
       "Sports                               84.87   15.000795\n",
       "Action                               77.81   13.752938\n",
       "Misc                                 70.60   12.478569\n",
       "Racing                               56.45    9.977553\n",
       "Platform                             52.67    9.309437\n",
       "Role-Playing                         50.48    8.922354\n",
       "Other:Simulation,Fighting,Puzzle     32.45    5.735546"
      ]
     },
     "execution_count": 348,
     "metadata": {},
     "output_type": "execute_result"
    }
   ],
   "source": [
    "newTotal=Total1.append(slice_total2)\n",
    "newTotal.head(10)"
   ]
  },
  {
   "cell_type": "markdown",
   "id": "e490573c-1b9d-4091-b5bf-ca64319f2a70",
   "metadata": {},
   "source": [
    "## Pie Chart Explanation\n",
    "\n",
    "#### The pie chart provides a visual representation of North American game sales by genre,highlighting the distribution of sales within the gaming industry. The chart is divided into 8 categories,showing 'Shooter\" games dominating the North American gaming market comprising  a quarter of all sales.This genre's popularity is evident with titles like Call of Duty and Halo 3 contributing significantly to the overall sales figure.'Sport' games represent the second largest category, constituting 15% of the total sales. This suggest a substantial audience for sports-related gaming experiences with Wii products.Games in the 'Other' category, Simulation (2.5%), Fighting (2.5%) and Puzzle (<1%) make up the smallest portion of the market accounting for just 6 % in overall sales combined."
   ]
  },
  {
   "cell_type": "code",
   "execution_count": 349,
   "id": "6d71d66d-af55-4a3e-865b-7836c2baa6c6",
   "metadata": {},
   "outputs": [
    {
     "data": {
      "text/plain": [
       "Text(0.5, 1.0, 'North American Sales by Genre')"
      ]
     },
     "execution_count": 349,
     "metadata": {},
     "output_type": "execute_result"
    },
    {
     "data": {
      "image/png": "[encoded data removed]",
      "text/plain": [
       "<Figure size 640x480 with 1 Axes>"
      ]
     },
     "metadata": {},
     "output_type": "display_data"
    }
   ],
   "source": [
    "\n",
    "newTotal['NA_Sales'].plot(kind='pie', y='Genre', autopct='%1.0f%%',startangle=40, legend=False)\n",
    "plt.title(\"North American Sales by Genre\")\n"
   ]
  },
  {
   "cell_type": "markdown",
   "id": "75485233-ec2d-4a4b-856f-2d1d1a1124b1",
   "metadata": {},
   "source": [
    "## 5. The Percentage of European Sales by Genre"
   ]
  },
  {
   "cell_type": "code",
   "execution_count": 92,
   "id": "3acc5e52-2e38-4bb1-b272-3d6f1fa6375f",
   "metadata": {},
   "outputs": [
    {
     "data": {
      "text/html": [
       "<div>\n",
       "<style scoped>\n",
       "    .dataframe tbody tr th:only-of-type {\n",
       "        vertical-align: middle;\n",
       "    }\n",
       "\n",
       "    .dataframe tbody tr th {\n",
       "        vertical-align: top;\n",
       "    }\n",
       "\n",
       "    .dataframe thead th {\n",
       "        text-align: right;\n",
       "    }\n",
       "</style>\n",
       "<table border=\"1\" class=\"dataframe\">\n",
       "  <thead>\n",
       "    <tr style=\"text-align: right;\">\n",
       "      <th></th>\n",
       "      <th>Genre</th>\n",
       "      <th>EU_Sales</th>\n",
       "    </tr>\n",
       "  </thead>\n",
       "  <tbody>\n",
       "    <tr>\n",
       "      <th>0</th>\n",
       "      <td>Sports</td>\n",
       "      <td>29.02</td>\n",
       "    </tr>\n",
       "    <tr>\n",
       "      <th>1</th>\n",
       "      <td>Racing</td>\n",
       "      <td>12.88</td>\n",
       "    </tr>\n",
       "    <tr>\n",
       "      <th>2</th>\n",
       "      <td>Sports</td>\n",
       "      <td>11.01</td>\n",
       "    </tr>\n",
       "    <tr>\n",
       "      <th>3</th>\n",
       "      <td>Platform</td>\n",
       "      <td>9.23</td>\n",
       "    </tr>\n",
       "    <tr>\n",
       "      <th>4</th>\n",
       "      <td>Misc</td>\n",
       "      <td>9.20</td>\n",
       "    </tr>\n",
       "  </tbody>\n",
       "</table>\n",
       "</div>"
      ],
      "text/plain": [
       "      Genre  EU_Sales\n",
       "0    Sports     29.02\n",
       "1    Racing     12.88\n",
       "2    Sports     11.01\n",
       "3  Platform      9.23\n",
       "4      Misc      9.20"
      ]
     },
     "execution_count": 92,
     "metadata": {},
     "output_type": "execute_result"
    }
   ],
   "source": [
    "Europe= top100.loc[:,['Genre','EU_Sales']]\n",
    "\n",
    "Europe.head()"
   ]
  },
  {
   "cell_type": "code",
   "execution_count": 352,
   "id": "5d47e1f0-c6ff-46f8-9cda-8fb88127e356",
   "metadata": {},
   "outputs": [
    {
     "data": {
      "text/html": [
       "<div>\n",
       "<style scoped>\n",
       "    .dataframe tbody tr th:only-of-type {\n",
       "        vertical-align: middle;\n",
       "    }\n",
       "\n",
       "    .dataframe tbody tr th {\n",
       "        vertical-align: top;\n",
       "    }\n",
       "\n",
       "    .dataframe thead th {\n",
       "        text-align: right;\n",
       "    }\n",
       "</style>\n",
       "<table border=\"1\" class=\"dataframe\">\n",
       "  <thead>\n",
       "    <tr style=\"text-align: right;\">\n",
       "      <th></th>\n",
       "      <th>EU_Sales</th>\n",
       "      <th>% of Total</th>\n",
       "    </tr>\n",
       "    <tr>\n",
       "      <th>Genre</th>\n",
       "      <th></th>\n",
       "      <th></th>\n",
       "    </tr>\n",
       "  </thead>\n",
       "  <tbody>\n",
       "    <tr>\n",
       "      <th>Action</th>\n",
       "      <td>58.15</td>\n",
       "      <td>13.947185</td>\n",
       "    </tr>\n",
       "    <tr>\n",
       "      <th>Fighting</th>\n",
       "      <td>5.00</td>\n",
       "      <td>1.199242</td>\n",
       "    </tr>\n",
       "    <tr>\n",
       "      <th>Misc</th>\n",
       "      <td>48.00</td>\n",
       "      <td>11.512724</td>\n",
       "    </tr>\n",
       "    <tr>\n",
       "      <th>Platform</th>\n",
       "      <td>33.12</td>\n",
       "      <td>7.943780</td>\n",
       "    </tr>\n",
       "    <tr>\n",
       "      <th>Puzzle</th>\n",
       "      <td>5.36</td>\n",
       "      <td>1.285588</td>\n",
       "    </tr>\n",
       "    <tr>\n",
       "      <th>Racing</th>\n",
       "      <td>44.03</td>\n",
       "      <td>10.560526</td>\n",
       "    </tr>\n",
       "    <tr>\n",
       "      <th>Role-Playing</th>\n",
       "      <td>36.20</td>\n",
       "      <td>8.682513</td>\n",
       "    </tr>\n",
       "    <tr>\n",
       "      <th>Shooter</th>\n",
       "      <td>81.63</td>\n",
       "      <td>19.578826</td>\n",
       "    </tr>\n",
       "    <tr>\n",
       "      <th>Simulation</th>\n",
       "      <td>23.26</td>\n",
       "      <td>5.578874</td>\n",
       "    </tr>\n",
       "    <tr>\n",
       "      <th>Sports</th>\n",
       "      <td>82.18</td>\n",
       "      <td>19.710743</td>\n",
       "    </tr>\n",
       "  </tbody>\n",
       "</table>\n",
       "</div>"
      ],
      "text/plain": [
       "              EU_Sales  % of Total\n",
       "Genre                             \n",
       "Action           58.15   13.947185\n",
       "Fighting          5.00    1.199242\n",
       "Misc             48.00   11.512724\n",
       "Platform         33.12    7.943780\n",
       "Puzzle            5.36    1.285588\n",
       "Racing           44.03   10.560526\n",
       "Role-Playing     36.20    8.682513\n",
       "Shooter          81.63   19.578826\n",
       "Simulation       23.26    5.578874\n",
       "Sports           82.18   19.710743"
      ]
     },
     "execution_count": 352,
     "metadata": {},
     "output_type": "execute_result"
    }
   ],
   "source": [
    "group_by_genreEU=Europe.groupby('Genre')\n",
    "TotalEU=group_by_genreEU.sum()\n",
    "TotalEU.head(10)\n",
    "\n",
    "\n",
    "\n",
    "TotalEU['% of Total']=TotalEU['EU_Sales'].apply(lambda x: 100* x /TotalEU['EU_Sales'].sum())\n",
    "TotalEU.head(10)"
   ]
  },
  {
   "cell_type": "code",
   "execution_count": 354,
   "id": "ccc17a7f-4fec-42c3-a561-e1429d2e1a88",
   "metadata": {},
   "outputs": [
    {
     "data": {
      "text/html": [
       "<div>\n",
       "<style scoped>\n",
       "    .dataframe tbody tr th:only-of-type {\n",
       "        vertical-align: middle;\n",
       "    }\n",
       "\n",
       "    .dataframe tbody tr th {\n",
       "        vertical-align: top;\n",
       "    }\n",
       "\n",
       "    .dataframe thead th {\n",
       "        text-align: right;\n",
       "    }\n",
       "</style>\n",
       "<table border=\"1\" class=\"dataframe\">\n",
       "  <thead>\n",
       "    <tr style=\"text-align: right;\">\n",
       "      <th></th>\n",
       "      <th>EU_Sales</th>\n",
       "      <th>% of Total</th>\n",
       "    </tr>\n",
       "    <tr>\n",
       "      <th>Genre</th>\n",
       "      <th></th>\n",
       "      <th></th>\n",
       "    </tr>\n",
       "  </thead>\n",
       "  <tbody>\n",
       "    <tr>\n",
       "      <th>Sports</th>\n",
       "      <td>82.18</td>\n",
       "      <td>19.710743</td>\n",
       "    </tr>\n",
       "    <tr>\n",
       "      <th>Shooter</th>\n",
       "      <td>81.63</td>\n",
       "      <td>19.578826</td>\n",
       "    </tr>\n",
       "    <tr>\n",
       "      <th>Action</th>\n",
       "      <td>58.15</td>\n",
       "      <td>13.947185</td>\n",
       "    </tr>\n",
       "    <tr>\n",
       "      <th>Misc</th>\n",
       "      <td>48.00</td>\n",
       "      <td>11.512724</td>\n",
       "    </tr>\n",
       "    <tr>\n",
       "      <th>Racing</th>\n",
       "      <td>44.03</td>\n",
       "      <td>10.560526</td>\n",
       "    </tr>\n",
       "    <tr>\n",
       "      <th>Role-Playing</th>\n",
       "      <td>36.20</td>\n",
       "      <td>8.682513</td>\n",
       "    </tr>\n",
       "    <tr>\n",
       "      <th>Platform</th>\n",
       "      <td>33.12</td>\n",
       "      <td>7.943780</td>\n",
       "    </tr>\n",
       "    <tr>\n",
       "      <th>Simulation</th>\n",
       "      <td>23.26</td>\n",
       "      <td>5.578874</td>\n",
       "    </tr>\n",
       "    <tr>\n",
       "      <th>Puzzle</th>\n",
       "      <td>5.36</td>\n",
       "      <td>1.285588</td>\n",
       "    </tr>\n",
       "    <tr>\n",
       "      <th>Fighting</th>\n",
       "      <td>5.00</td>\n",
       "      <td>1.199242</td>\n",
       "    </tr>\n",
       "  </tbody>\n",
       "</table>\n",
       "</div>"
      ],
      "text/plain": [
       "              EU_Sales  % of Total\n",
       "Genre                             \n",
       "Sports           82.18   19.710743\n",
       "Shooter          81.63   19.578826\n",
       "Action           58.15   13.947185\n",
       "Misc             48.00   11.512724\n",
       "Racing           44.03   10.560526\n",
       "Role-Playing     36.20    8.682513\n",
       "Platform         33.12    7.943780\n",
       "Simulation       23.26    5.578874\n",
       "Puzzle            5.36    1.285588\n",
       "Fighting          5.00    1.199242"
      ]
     },
     "execution_count": 354,
     "metadata": {},
     "output_type": "execute_result"
    }
   ],
   "source": [
    "TotalEU=TotalEU.sort_values(by=['EU_Sales'], ascending=False)\n",
    "TotalEU.head(10)"
   ]
  },
  {
   "cell_type": "code",
   "execution_count": 356,
   "id": "a2782f12-6634-427c-930c-3a759731290e",
   "metadata": {},
   "outputs": [
    {
     "data": {
      "text/html": [
       "<div>\n",
       "<style scoped>\n",
       "    .dataframe tbody tr th:only-of-type {\n",
       "        vertical-align: middle;\n",
       "    }\n",
       "\n",
       "    .dataframe tbody tr th {\n",
       "        vertical-align: top;\n",
       "    }\n",
       "\n",
       "    .dataframe thead th {\n",
       "        text-align: right;\n",
       "    }\n",
       "</style>\n",
       "<table border=\"1\" class=\"dataframe\">\n",
       "  <thead>\n",
       "    <tr style=\"text-align: right;\">\n",
       "      <th></th>\n",
       "      <th>EU_Sales</th>\n",
       "      <th>% of Total</th>\n",
       "    </tr>\n",
       "    <tr>\n",
       "      <th>Genre</th>\n",
       "      <th></th>\n",
       "      <th></th>\n",
       "    </tr>\n",
       "  </thead>\n",
       "  <tbody>\n",
       "    <tr>\n",
       "      <th>Sports</th>\n",
       "      <td>82.18</td>\n",
       "      <td>19.710743</td>\n",
       "    </tr>\n",
       "    <tr>\n",
       "      <th>Shooter</th>\n",
       "      <td>81.63</td>\n",
       "      <td>19.578826</td>\n",
       "    </tr>\n",
       "    <tr>\n",
       "      <th>Action</th>\n",
       "      <td>58.15</td>\n",
       "      <td>13.947185</td>\n",
       "    </tr>\n",
       "    <tr>\n",
       "      <th>Misc</th>\n",
       "      <td>48.00</td>\n",
       "      <td>11.512724</td>\n",
       "    </tr>\n",
       "    <tr>\n",
       "      <th>Racing</th>\n",
       "      <td>44.03</td>\n",
       "      <td>10.560526</td>\n",
       "    </tr>\n",
       "    <tr>\n",
       "      <th>Role-Playing</th>\n",
       "      <td>36.20</td>\n",
       "      <td>8.682513</td>\n",
       "    </tr>\n",
       "    <tr>\n",
       "      <th>Platform</th>\n",
       "      <td>33.12</td>\n",
       "      <td>7.943780</td>\n",
       "    </tr>\n",
       "  </tbody>\n",
       "</table>\n",
       "</div>"
      ],
      "text/plain": [
       "              EU_Sales  % of Total\n",
       "Genre                             \n",
       "Sports           82.18   19.710743\n",
       "Shooter          81.63   19.578826\n",
       "Action           58.15   13.947185\n",
       "Misc             48.00   11.512724\n",
       "Racing           44.03   10.560526\n",
       "Role-Playing     36.20    8.682513\n",
       "Platform         33.12    7.943780"
      ]
     },
     "execution_count": 356,
     "metadata": {},
     "output_type": "execute_result"
    }
   ],
   "source": [
    "TotalEU1 = TotalEU.iloc[:7]\n",
    "TotalEU2 = TotalEU.iloc[7:]\n",
    "\n",
    "TotalEU1.head(10)"
   ]
  },
  {
   "cell_type": "code",
   "execution_count": 357,
   "id": "9c58ed75-9538-49ae-8784-2fd0035036ff",
   "metadata": {},
   "outputs": [
    {
     "data": {
      "text/html": [
       "<div>\n",
       "<style scoped>\n",
       "    .dataframe tbody tr th:only-of-type {\n",
       "        vertical-align: middle;\n",
       "    }\n",
       "\n",
       "    .dataframe tbody tr th {\n",
       "        vertical-align: top;\n",
       "    }\n",
       "\n",
       "    .dataframe thead th {\n",
       "        text-align: right;\n",
       "    }\n",
       "</style>\n",
       "<table border=\"1\" class=\"dataframe\">\n",
       "  <thead>\n",
       "    <tr style=\"text-align: right;\">\n",
       "      <th></th>\n",
       "      <th>EU_Sales</th>\n",
       "      <th>% of Total</th>\n",
       "    </tr>\n",
       "    <tr>\n",
       "      <th>Genre</th>\n",
       "      <th></th>\n",
       "      <th></th>\n",
       "    </tr>\n",
       "  </thead>\n",
       "  <tbody>\n",
       "    <tr>\n",
       "      <th>Simulation</th>\n",
       "      <td>23.26</td>\n",
       "      <td>5.578874</td>\n",
       "    </tr>\n",
       "    <tr>\n",
       "      <th>Puzzle</th>\n",
       "      <td>5.36</td>\n",
       "      <td>1.285588</td>\n",
       "    </tr>\n",
       "    <tr>\n",
       "      <th>Fighting</th>\n",
       "      <td>5.00</td>\n",
       "      <td>1.199242</td>\n",
       "    </tr>\n",
       "  </tbody>\n",
       "</table>\n",
       "</div>"
      ],
      "text/plain": [
       "            EU_Sales  % of Total\n",
       "Genre                           \n",
       "Simulation     23.26    5.578874\n",
       "Puzzle          5.36    1.285588\n",
       "Fighting        5.00    1.199242"
      ]
     },
     "execution_count": 357,
     "metadata": {},
     "output_type": "execute_result"
    }
   ],
   "source": [
    "TotalEU2.head()"
   ]
  },
  {
   "cell_type": "code",
   "execution_count": 358,
   "id": "c9902a6e-4933-472b-9e42-3aaa550e7be0",
   "metadata": {},
   "outputs": [
    {
     "name": "stderr",
     "output_type": "stream",
     "text": [
      "/var/folders/86/09bx2_dx25b9p4352_slh92m0000gn/T/ipykernel_5807/1112385798.py:1: FutureWarning: The frame.append method is deprecated and will be removed from pandas in a future version. Use pandas.concat instead.\n",
      "  TotalEU2=TotalEU2.append(TotalEU2.sum().rename('Other:Simulation,Fighting,Puzzle'))\n"
     ]
    }
   ],
   "source": [
    "TotalEU2=TotalEU2.append(TotalEU2.sum().rename('Other:Simulation,Fighting,Puzzle'))"
   ]
  },
  {
   "cell_type": "code",
   "execution_count": 359,
   "id": "e7bcf162-090e-4be9-a712-8777188befd2",
   "metadata": {},
   "outputs": [
    {
     "data": {
      "text/html": [
       "<div>\n",
       "<style scoped>\n",
       "    .dataframe tbody tr th:only-of-type {\n",
       "        vertical-align: middle;\n",
       "    }\n",
       "\n",
       "    .dataframe tbody tr th {\n",
       "        vertical-align: top;\n",
       "    }\n",
       "\n",
       "    .dataframe thead th {\n",
       "        text-align: right;\n",
       "    }\n",
       "</style>\n",
       "<table border=\"1\" class=\"dataframe\">\n",
       "  <thead>\n",
       "    <tr style=\"text-align: right;\">\n",
       "      <th></th>\n",
       "      <th>EU_Sales</th>\n",
       "      <th>% of Total</th>\n",
       "    </tr>\n",
       "    <tr>\n",
       "      <th>Genre</th>\n",
       "      <th></th>\n",
       "      <th></th>\n",
       "    </tr>\n",
       "  </thead>\n",
       "  <tbody>\n",
       "    <tr>\n",
       "      <th>Other:Simulation,Fighting,Puzzle</th>\n",
       "      <td>33.62</td>\n",
       "      <td>8.063704</td>\n",
       "    </tr>\n",
       "  </tbody>\n",
       "</table>\n",
       "</div>"
      ],
      "text/plain": [
       "                                  EU_Sales  % of Total\n",
       "Genre                                                 \n",
       "Other:Simulation,Fighting,Puzzle     33.62    8.063704"
      ]
     },
     "execution_count": 359,
     "metadata": {},
     "output_type": "execute_result"
    }
   ],
   "source": [
    "slice_totalEU2=TotalEU2.iloc[3:]\n",
    "\n",
    "slice_totalEU2.head()"
   ]
  },
  {
   "cell_type": "code",
   "execution_count": 361,
   "id": "d2731f67-12b6-4bd1-be7a-5f4d9b1b76e1",
   "metadata": {},
   "outputs": [
    {
     "name": "stderr",
     "output_type": "stream",
     "text": [
      "/var/folders/86/09bx2_dx25b9p4352_slh92m0000gn/T/ipykernel_5807/2377582815.py:1: FutureWarning: The frame.append method is deprecated and will be removed from pandas in a future version. Use pandas.concat instead.\n",
      "  newTotalEU=TotalEU1.append(slice_totalEU2)\n"
     ]
    },
    {
     "data": {
      "text/html": [
       "<div>\n",
       "<style scoped>\n",
       "    .dataframe tbody tr th:only-of-type {\n",
       "        vertical-align: middle;\n",
       "    }\n",
       "\n",
       "    .dataframe tbody tr th {\n",
       "        vertical-align: top;\n",
       "    }\n",
       "\n",
       "    .dataframe thead th {\n",
       "        text-align: right;\n",
       "    }\n",
       "</style>\n",
       "<table border=\"1\" class=\"dataframe\">\n",
       "  <thead>\n",
       "    <tr style=\"text-align: right;\">\n",
       "      <th></th>\n",
       "      <th>EU_Sales</th>\n",
       "      <th>% of Total</th>\n",
       "    </tr>\n",
       "    <tr>\n",
       "      <th>Genre</th>\n",
       "      <th></th>\n",
       "      <th></th>\n",
       "    </tr>\n",
       "  </thead>\n",
       "  <tbody>\n",
       "    <tr>\n",
       "      <th>Sports</th>\n",
       "      <td>82.18</td>\n",
       "      <td>19.710743</td>\n",
       "    </tr>\n",
       "    <tr>\n",
       "      <th>Shooter</th>\n",
       "      <td>81.63</td>\n",
       "      <td>19.578826</td>\n",
       "    </tr>\n",
       "    <tr>\n",
       "      <th>Action</th>\n",
       "      <td>58.15</td>\n",
       "      <td>13.947185</td>\n",
       "    </tr>\n",
       "    <tr>\n",
       "      <th>Misc</th>\n",
       "      <td>48.00</td>\n",
       "      <td>11.512724</td>\n",
       "    </tr>\n",
       "    <tr>\n",
       "      <th>Racing</th>\n",
       "      <td>44.03</td>\n",
       "      <td>10.560526</td>\n",
       "    </tr>\n",
       "    <tr>\n",
       "      <th>Role-Playing</th>\n",
       "      <td>36.20</td>\n",
       "      <td>8.682513</td>\n",
       "    </tr>\n",
       "    <tr>\n",
       "      <th>Platform</th>\n",
       "      <td>33.12</td>\n",
       "      <td>7.943780</td>\n",
       "    </tr>\n",
       "    <tr>\n",
       "      <th>Other:Simulation,Fighting,Puzzle</th>\n",
       "      <td>33.62</td>\n",
       "      <td>8.063704</td>\n",
       "    </tr>\n",
       "  </tbody>\n",
       "</table>\n",
       "</div>"
      ],
      "text/plain": [
       "                                  EU_Sales  % of Total\n",
       "Genre                                                 \n",
       "Sports                               82.18   19.710743\n",
       "Shooter                              81.63   19.578826\n",
       "Action                               58.15   13.947185\n",
       "Misc                                 48.00   11.512724\n",
       "Racing                               44.03   10.560526\n",
       "Role-Playing                         36.20    8.682513\n",
       "Platform                             33.12    7.943780\n",
       "Other:Simulation,Fighting,Puzzle     33.62    8.063704"
      ]
     },
     "execution_count": 361,
     "metadata": {},
     "output_type": "execute_result"
    }
   ],
   "source": [
    "newTotalEU=TotalEU1.append(slice_totalEU2)\n",
    "newTotalEU.head(10)"
   ]
  },
  {
   "cell_type": "markdown",
   "id": "0a251e1e-d83c-4e44-96dd-7a0379d2b2d9",
   "metadata": {},
   "source": [
    "## Pie Chart Explanation\n",
    "\n",
    "#### The pie chart below provides a visual representation of European game sales by genre,offering insights into the distribution of sales within the gaming industry in Europe. The chart is divided into 8 categories where 'Shooter' games hold a significant share of the European market at 20% and 'Sports' games hold the same amount of shares at 20%. Like the North American market, the  'Other' category,'Simulation'(5.5%), Fighting(1%), Puzzle (1%) games still maintain a notable presence,accounting for approximately  8%  European sales combined."
   ]
  },
  {
   "cell_type": "code",
   "execution_count": 362,
   "id": "aab282ee-735d-4738-839c-ab5bbfa6b9bf",
   "metadata": {},
   "outputs": [
    {
     "data": {
      "text/plain": [
       "Text(0.5, 1.0, 'European Sales by Genre')"
      ]
     },
     "execution_count": 362,
     "metadata": {},
     "output_type": "execute_result"
    },
    {
     "data": {
      "image/png": "[encoded data removed]",
      "text/plain": [
       "<Figure size 640x480 with 1 Axes>"
      ]
     },
     "metadata": {},
     "output_type": "display_data"
    }
   ],
   "source": [
    "newTotalEU['EU_Sales'].plot(kind='pie', y='Genre', autopct='%1.0f%%',startangle=40, legend=False)\n",
    "plt.title(\"European Sales by Genre\")"
   ]
  },
  {
   "cell_type": "markdown",
   "id": "f98e1c88-b76e-4785-a5ff-4f3ef08145a3",
   "metadata": {},
   "source": [
    "## 6. Similarities and differences between North American and European Sales."
   ]
  },
  {
   "cell_type": "markdown",
   "id": "bb905a39-4224-4c14-900e-6a582fb48e00",
   "metadata": {},
   "source": [
    "#### Sales in both regions are similar in most of the game categories.There is a  1% difference in most cases when comparing North America and European Sales.\n",
    "#### The biggest difference we see however, is in the shooter game category.Shooter game sales  are 5% higher in North America than in Europe.Sales in the sports category is also 5% lower in North America compared to European Sales.Simulation game sales are also relatively higher in Europe than in North America."
   ]
  },
  {
   "cell_type": "markdown",
   "id": "d23cd8f2-03d4-4b64-a5d1-58f7d20a3884",
   "metadata": {},
   "source": [
    "## 7. Count of Games by Platform"
   ]
  },
  {
   "cell_type": "code",
   "execution_count": 106,
   "id": "6e4e5256-f911-4f75-a37c-fb1a44b7cb45",
   "metadata": {},
   "outputs": [
    {
     "data": {
      "text/plain": [
       "<seaborn.axisgrid.FacetGrid at 0x1686bd330>"
      ]
     },
     "execution_count": 106,
     "metadata": {},
     "output_type": "execute_result"
    },
    {
     "data": {
      "image/png": "[encoded data removed]",
      "text/plain": [
       "<Figure size 1000x500 with 1 Axes>"
      ]
     },
     "metadata": {},
     "output_type": "display_data"
    }
   ],
   "source": [
    "sns.catplot(kind='count', data=top100, x='Platform', aspect=2)"
   ]
  },
  {
   "cell_type": "markdown",
   "id": "905e976d-8648-4092-a102-e0b2e8fa8837",
   "metadata": {},
   "source": [
    "### Explanation\n",
    "#### In the chart above, we see Nintendo created roughly 46 games, Xbox created roughly 18 games,Playstation created 34 games and Other created less than 5 games."
   ]
  },
  {
   "cell_type": "code",
   "execution_count": null,
   "id": "28c98188-ed44-4110-a649-0d361d14eeb3",
   "metadata": {},
   "outputs": [],
   "source": []
  }
 ],
 "metadata": {
  "kernelspec": {
   "display_name": "Python 3 (ipykernel)",
   "language": "python",
   "name": "python3"
  },
  "language_info": {
   "codemirror_mode": {
    "name": "ipython",
    "version": 3
   },
   "file_extension": ".py",
   "mimetype": "text/x-python",
   "name": "python",
   "nbconvert_exporter": "python",
   "pygments_lexer": "ipython3",
   "version": "3.10.9"
  }
 },
 "nbformat": 4,
 "nbformat_minor": 5
}
